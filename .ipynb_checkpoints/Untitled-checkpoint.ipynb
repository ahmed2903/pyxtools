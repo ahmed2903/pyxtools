{
 "cells": [
  {
   "cell_type": "code",
   "execution_count": null,
   "id": "f9ca6415-244d-4aab-b492-1a074a8d689c",
   "metadata": {},
   "outputs": [],
   "source": [
    "def align_images(images, upsample_factor=100):\n",
    "    \"\"\"\n",
    "    Aligns 2D images, corrects for relative shifts, and returns corrected images along with the phase factors.\n",
    "\n",
    "    Based on Mansi's code\n",
    "    \n",
    "    Input:\n",
    "    images : list  of 2D images containing the same object.\n",
    "    upsample_factor : The upsampling factor for subpixel accuracy (default: 100).\n",
    "\n",
    "    Returns:\n",
    "    corrected_images : The aligned (shift-corrected) images.\n",
    "    shifts : The relative shifts (dy, dx) for each image relative to the first image.\n",
    "    phase_factors : The phase factors applied in Fourier space for each shift.\n",
    "    \"\"\"\n",
    "    # Use the first image as the reference\n",
    "    ref_image = images[0]\n",
    "    \n",
    "    # Prepare outputs\n",
    "    corrected_images = []\n",
    "    shifts = []\n",
    "    phase_factors = []\n",
    "    \n",
    "    for i, img in enumerate(images):\n",
    "        # Compute relative shift between the reference and the current image\n",
    "        shift, error, diffphase = phase_cross_correlation(\n",
    "            ref_image, img, upsample_factor=upsample_factor\n",
    "        )\n",
    "        shifts.append(shift)\n",
    "        \n",
    "        # Apply Fourier-domain shift correction\n",
    "        shifted_image_fft = fourier_shift(np.fft.fftn(img), shift)\n",
    "        corrected_image = np.fft.ifftn(shifted_image_fft).real\n",
    "        corrected_images.append(corrected_image)\n",
    "        \n",
    "        # Calculate phase factor for the shift\n",
    "        ny, nx = img.shape\n",
    "        y = np.fft.fftfreq(ny)[:, np.newaxis]\n",
    "        x = np.fft.fftfreq(nx)\n",
    "        phase_factor = np.exp(-2j * np.pi * (shift[0] * y + shift[1] * x))\n",
    "        phase_factors.append(phase_factor)\n",
    "    \n",
    "    return corrected_images, shifts, phase_factors"
   ]
  }
 ],
 "metadata": {
  "kernelspec": {
   "display_name": "SciEnv",
   "language": "python",
   "name": "scienv"
  },
  "language_info": {
   "codemirror_mode": {
    "name": "ipython",
    "version": 3
   },
   "file_extension": ".py",
   "mimetype": "text/x-python",
   "name": "python",
   "nbconvert_exporter": "python",
   "pygments_lexer": "ipython3",
   "version": "3.13.2"
  }
 },
 "nbformat": 4,
 "nbformat_minor": 5
}
